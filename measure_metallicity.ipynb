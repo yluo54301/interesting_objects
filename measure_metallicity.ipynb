{
 "cells": [
  {
   "cell_type": "code",
   "execution_count": 1,
   "metadata": {},
   "outputs": [],
   "source": [
    "import numpy as np\n",
    "from specutils.analysis import equivalent_width\n",
    "from specutils.analysis import line_flux\n",
    "from specutils import Spectrum1D\n",
    "from specutils import SpectralRegion\n",
    "from astropy.io import fits\n",
    "import matplotlib.pyplot as plt\n",
    "from matplotlib.colors import LogNorm\n",
    "import astropy.units as u"
   ]
  },
  {
   "cell_type": "code",
   "execution_count": 2,
   "metadata": {},
   "outputs": [],
   "source": [
    "SDSS_EMLINES = {\n",
    "    'OII_3726': {'cen':3726.032, 'low':3717.0, 'upp':3737.0},\n",
    "    'OII_3729': {'cen':3728.815, 'low':3717.0, 'upp':3737.0},\n",
    "    'NeIII_3869': {'cen':3869.060, 'low':3859.0, 'upp':3879.0},\n",
    "    'H_delta': {'cen':4101.734, 'low':4092.0, 'upp':4111.0},\n",
    "    'H_gamma': {'cen':4340.464, 'low':4330.0, 'upp':4350.0},\n",
    "    'OIII_4363': {'cen':4363.210, 'low':4350.0, 'upp':4378.0},\n",
    "    'H_beta': {'cen':4861.325, 'low':4851.0, 'upp':4871.0},\n",
    "    'OIII_4959': {'cen':4958.911, 'low':4949.0, 'upp':4969.0},\n",
    "    'OIII_5007': {'cen':5006.843, 'low':4997.0, 'upp':5017.0},\n",
    "    'HeI_5876': {'cen':5875.67, 'low':5866.0, 'upp':5886.0},\n",
    "    'OI_6300': {'cen':6300.304, 'low':6290.0, 'upp':6310.0},\n",
    "    'NII_6548': {'cen':6548.040, 'low':6533.0, 'upp':6553.0},\n",
    "    'H_alpha': {'cen':6562.800, 'low':6553.0, 'upp':6573.0},\n",
    "    'NII_6584': {'cen':6583.460, 'low':6573.0, 'upp':6593.0},\n",
    "    'SII_6717': {'cen':6716.440, 'low':6704.0, 'upp':6724.0},\n",
    "    'SII_6731': {'cen':6730.810, 'low':6724.0, 'upp':6744.0},\n",
    "    'ArIII7135': {'cen':7135.8, 'low':7130.0, 'upp':7140.0}\n",
    "}"
   ]
  },
  {
   "cell_type": "code",
   "execution_count": 3,
   "metadata": {},
   "outputs": [],
   "source": [
    "def measure_flux(wspec, spec, emline,wave_margin=300,redshift=0.0323,cont=0):\n",
    "    \n",
    "    wave_flag = ((wspec >= emline['cen']*(1.0 + redshift) - wave_margin) &\n",
    "                 (wspec <= emline['cen']*(1.0 + redshift) + wave_margin))\n",
    "\n",
    "    wave_use = wspec[wave_flag]\n",
    "    spec_use = spec[wave_flag]\n",
    "\n",
    "    flux_line = line_flux(        \n",
    "        Spectrum1D(\n",
    "            spectral_axis=wave_use * u.AA,\n",
    "            flux = (spec_use-cont) * u.Unit('erg cm-2 s-1 AA-1')\n",
    "        ),\n",
    "        regions=SpectralRegion(emline['low'] * u.AA * (1.0 + redshift),\n",
    "                               emline['upp'] * u.AA * (1.0 + redshift)),\n",
    "    ).value\n",
    "\n",
    "    return flux_line\n",
    "\n",
    "def correct_dust(x,flux):\n",
    "    k = 2.656*(-2.156+1.509/x-0.198/x**2+0.011/x**3)+4.88\n",
    "    flux_corr = flux/10**(-0.4*k*EBV)\n",
    "    return flux_corr"
   ]
  },
  {
   "cell_type": "code",
   "execution_count": 4,
   "metadata": {},
   "outputs": [],
   "source": [
    "spectra_10k=np.genfromtxt('spec1d.mn46.005.lid_2623.txt',names=('LAMBDA','IVAR','FLUX'))\n",
    "wave_10k = spectra_10k['LAMBDA']\n",
    "spec_10k = spectra_10k['FLUX']\n",
    "\n",
    "spectra = fits.open('bluedot_coadd_det3.fits')[1].data\n",
    "wave = spectra['wave']\n",
    "spec = spectra['flux']"
   ]
  },
  {
   "cell_type": "code",
   "execution_count": 5,
   "metadata": {},
   "outputs": [],
   "source": [
    "Ha_10k = measure_flux(wave_10k, spec_10k, SDSS_EMLINES['H_alpha'],redshift=0.0323,cont=300)\n",
    "Hbeta_10k = measure_flux(wave_10k, spec_10k, SDSS_EMLINES['H_beta'],redshift=0.0323,cont=300)\n",
    "OIII4959_10k = measure_flux(wave_10k, spec_10k, SDSS_EMLINES['OIII_4959'],redshift=0.0323,cont=300)\n",
    "OIII5007_10k = measure_flux(wave_10k, spec_10k, SDSS_EMLINES['OIII_5007'],redshift=0.0323,cont=300)\n",
    "NII6584_10k = measure_flux(wave_10k, spec_10k, SDSS_EMLINES['NII_6584'],redshift=0.0323,cont=300)\n",
    "SII6717_10k = measure_flux(wave_10k, spec_10k, SDSS_EMLINES['SII_6717'],redshift=0.0323,cont=300)\n",
    "SII6731_10k = measure_flux(wave_10k, spec_10k, SDSS_EMLINES['SII_6731'],redshift=0.0323,cont=300)\n",
    "EBV = 0.934*np.log10((Ha_10k/Hbeta_10k)/2.86)"
   ]
  },
  {
   "cell_type": "code",
   "execution_count": 6,
   "metadata": {},
   "outputs": [],
   "source": [
    "Ha_10k_corr = correct_dust(0.65628,Ha_10k)\n",
    "Hbeta_10k_corr = correct_dust(0.48613,Hbeta_10k)\n",
    "OIII4959_10k_corr = correct_dust(0.49589,OIII4959_10k)\n",
    "OIII5007_10k_corr = correct_dust(0.5007,OIII5007_10k)\n",
    "NII6584_10k_corr = correct_dust(0.6584,NII6584_10k)\n",
    "SII6717_10k_corr = correct_dust(0.6717,SII6717_10k)\n",
    "SII6731_10k_corr = correct_dust(0.6731,SII6731_10k)"
   ]
  },
  {
   "cell_type": "code",
   "execution_count": 7,
   "metadata": {},
   "outputs": [
    {
     "name": "stdout",
     "output_type": "stream",
     "text": [
      "8.037756412420965 8.035641669856036 7.870084439862348\n"
     ]
    }
   ],
   "source": [
    "O3N2 = np.log10(OIII5007_10k_corr/Hbeta_10k_corr*Ha_10k_corr/NII6584_10k_corr)\n",
    "metallicty_O3N2 = 8.505 - 0.221 * O3N2\n",
    "N2 = np.log10(NII6584_10k_corr/Ha_10k_corr)\n",
    "metallicty_N2 = 8.667 + 0.455 * N2\n",
    "N2S2 = np.log10(NII6584_10k_corr/(SII6717_10k_corr+SII6731_10k_corr))\n",
    "metallicty_N2S2 = 8.77 + N2S2 + 0.264 * N2\n",
    "print(metallicty_O3N2,metallicty_N2,metallicty_N2S2)"
   ]
  },
  {
   "cell_type": "code",
   "execution_count": 8,
   "metadata": {},
   "outputs": [],
   "source": [
    "Ha = measure_flux(wave, spec, SDSS_EMLINES['H_alpha'],redshift=0.0323,cont=100)\n",
    "Hbeta = measure_flux(wave, spec, SDSS_EMLINES['H_beta'],redshift=0.0323,cont=100)\n",
    "OIII4959 = measure_flux(wave, spec, SDSS_EMLINES['OIII_4959'],redshift=0.0323,cont=100)\n",
    "OIII5007 = measure_flux(wave, spec, SDSS_EMLINES['OIII_5007'],redshift=0.0323,cont=100)\n",
    "NII6584 = measure_flux(wave, spec, SDSS_EMLINES['NII_6584'],redshift=0.0323,cont=100)\n",
    "SII6717 = measure_flux(wave, spec, SDSS_EMLINES['SII_6717'],redshift=0.0323,cont=100)\n",
    "SII6731 = measure_flux(wave, spec, SDSS_EMLINES['SII_6731'],redshift=0.0323,cont=100)\n",
    "EBV = 0.934*np.log10((Ha/Hbeta)/2.86)"
   ]
  },
  {
   "cell_type": "code",
   "execution_count": 9,
   "metadata": {},
   "outputs": [],
   "source": [
    "Ha_corr = correct_dust(0.65628,Ha)\n",
    "Hbeta_corr = correct_dust(0.48613,Hbeta)\n",
    "OIII4959_corr = correct_dust(0.49589,OIII4959)\n",
    "OIII5007_corr = correct_dust(0.5007,OIII5007)\n",
    "NII6584_corr = correct_dust(0.6584,NII6584)\n",
    "SII6717_corr = correct_dust(0.6717,SII6717)\n",
    "SII6731_corr = correct_dust(0.6731,SII6731)"
   ]
  },
  {
   "cell_type": "code",
   "execution_count": 10,
   "metadata": {},
   "outputs": [
    {
     "name": "stdout",
     "output_type": "stream",
     "text": [
      "8.069618086437565 8.183798753172784 7.908347185448563\n"
     ]
    }
   ],
   "source": [
    "O3N2 = np.log10(OIII5007_corr/Hbeta_corr*Ha_corr/NII6584_corr)\n",
    "metallicty_O3N2 = 8.505 - 0.221 * O3N2\n",
    "N2 = np.log10(NII6584_corr/Ha_corr)\n",
    "metallicty_N2 = 8.667 + 0.455 * N2\n",
    "N2S2 = np.log10(NII6584_corr/(SII6717_corr+SII6731_corr))\n",
    "metallicty_N2S2 = 8.77 + N2S2 + 0.264 * N2\n",
    "print(metallicty_O3N2,metallicty_N2,metallicty_N2S2)"
   ]
  },
  {
   "cell_type": "code",
   "execution_count": null,
   "metadata": {},
   "outputs": [],
   "source": []
  }
 ],
 "metadata": {
  "kernelspec": {
   "display_name": "Python 3",
   "language": "python",
   "name": "python3"
  },
  "language_info": {
   "codemirror_mode": {
    "name": "ipython",
    "version": 3
   },
   "file_extension": ".py",
   "mimetype": "text/x-python",
   "name": "python",
   "nbconvert_exporter": "python",
   "pygments_lexer": "ipython3",
   "version": "3.6.10"
  }
 },
 "nbformat": 4,
 "nbformat_minor": 2
}
